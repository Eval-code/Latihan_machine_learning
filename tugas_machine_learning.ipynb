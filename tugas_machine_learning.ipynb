{
  "nbformat": 4,
  "nbformat_minor": 0,
  "metadata": {
    "colab": {
      "provenance": [],
      "authorship_tag": "ABX9TyOyyhx5ZgXs6bk/ySCTdfcy",
      "include_colab_link": true
    },
    "kernelspec": {
      "name": "python3",
      "display_name": "Python 3"
    },
    "language_info": {
      "name": "python"
    }
  },
  "cells": [
    {
      "cell_type": "markdown",
      "metadata": {
        "id": "view-in-github",
        "colab_type": "text"
      },
      "source": [
        "<a href=\"https://colab.research.google.com/github/Eval-code/Latihan_machine_learning/blob/main/tugas_machine_learning.ipynb\" target=\"_parent\"><img src=\"https://colab.research.google.com/assets/colab-badge.svg\" alt=\"Open In Colab\"/></a>"
      ]
    },
    {
      "cell_type": "markdown",
      "source": [
        "**PENJELASAN TENTANG PUSTAKA PYTHON**\n",
        "\n",
        "\n",
        "---\n",
        "\n",
        "\n",
        "1. NUMPY\n",
        "2. PANDAS\n",
        "3. SCIPY\n",
        "4. SCIKIT-LEARN\n",
        "5. MATPLOTLIB\n",
        "\n",
        "---\n",
        "1. NUMPY <br>\n",
        "  NumPy adalah pustaka fondasi untuk komputasi numerik, menyediakan array multidimensi efisien dan operasi matematika vektorized yang cepat (McKinney, 2022). Ini mendukung array besar tanpa loop manual, ideal untuk simulasi dan analisis data ilmiah.<br>\n",
        "<br>\n",
        "Kegunaan Utama:<br>\n",
        "1. Array dan matriks: Penyimpanan data numerik tetap.<br>\n",
        "2. Operasi: Fungsi trigonometri, aljabar linear, dan broadcasting.<br>\n",
        "3. Kecepatan: 10-100x lebih cepat daripada list Python standar.<br>\n",
        "<br>Contoh Kode Sederhana:"
      ],
      "metadata": {
        "id": "W5tGg2iZoBUV"
      }
    },
    {
      "cell_type": "code",
      "source": [
        "import numpy as np\n",
        "# Create a feature matrix (X) and target vector (y)\n",
        "X = np.array([[1, 2], [3, 4], [5, 6]])\n",
        "y = np.array([1, 2, 3])\n",
        "\n",
        "# Calculate the mean of each feature\n",
        "mean = np.mean(X, axis=0)\n",
        "print(\"Rata-rata fitur:\", mean)"
      ],
      "metadata": {
        "colab": {
          "base_uri": "https://localhost:8080/"
        },
        "id": "ITkgIHK0r3xt",
        "outputId": "8c4331bb-0729-4850-8e50-b7a73baa90b3"
      },
      "execution_count": 2,
      "outputs": [
        {
          "output_type": "stream",
          "name": "stdout",
          "text": [
            "Rata-rata fitur: [3. 4.]\n"
          ]
        }
      ]
    },
    {
      "cell_type": "markdown",
      "source": [
        "**Sumber** : *McKinney, W. (2022). Python for Data Analysis (3rd ed.). O'Reilly Media. (Bab 4: NumPy Basics).*"
      ],
      "metadata": {
        "id": "2Pr6m16vtLNN"
      }
    },
    {
      "cell_type": "markdown",
      "source": [
        "2. PANDAS<br>\n",
        "Pandas dibangun di atas NumPy untuk manipulasi data struktural, menggunakan DataFrame seperti tabel Excel untuk cleaning dan analisis (McKinney, 2022). Ini memudahkan EDA (Exploratory Data Analysis) pada data tabular atau time series.<br>\n",
        "<br>\n",
        "Kegunaan Utama:<br>\n",
        "1. DataFrame/Series: Baca CSV/Excel, groupby, merge.<br>\n",
        "2. Missing data: Handle NaN dengan fillna atau dropna.<br>\n",
        "3. Integrasi: Kompatibel dengan SQL dan JSON.<br>\n",
        "<br> Contoh Kode Sederhana :"
      ],
      "metadata": {
        "id": "3VuaBcv6sVYD"
      }
    },
    {
      "cell_type": "code",
      "source": [
        "  import pandas as pd\n",
        "\n",
        "  data = {'Nama': ['Alice', 'Bob'], 'Umur': [25, 30]}\n",
        "  df = pd.DataFrame(data)\n",
        "  print(df[df['Umur'] > 25])\n",
        ""
      ],
      "metadata": {
        "colab": {
          "base_uri": "https://localhost:8080/"
        },
        "id": "L4ZcxHEZujBX",
        "outputId": "e47fa9eb-358c-40a4-9a0b-45f16bf810f9"
      },
      "execution_count": 4,
      "outputs": [
        {
          "output_type": "stream",
          "name": "stdout",
          "text": [
            "  Nama  Umur\n",
            "1  Bob    30\n"
          ]
        }
      ]
    },
    {
      "cell_type": "markdown",
      "source": [
        "**Sumber** : *McKinney, W. (2022). Python for Data Analysis (3rd ed.). O'Reilly Media. (Bab 5-8: Pandas).*"
      ],
      "metadata": {
        "id": "zgg8a-K3uyQN"
      }
    }
  ]
}