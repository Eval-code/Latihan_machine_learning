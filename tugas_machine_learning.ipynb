{
  "nbformat": 4,
  "nbformat_minor": 0,
  "metadata": {
    "colab": {
      "provenance": [],
      "authorship_tag": "ABX9TyOLb6qspr4EYBXtLtVTN1/X",
      "include_colab_link": true
    },
    "kernelspec": {
      "name": "python3",
      "display_name": "Python 3"
    },
    "language_info": {
      "name": "python"
    }
  },
  "cells": [
    {
      "cell_type": "markdown",
      "metadata": {
        "id": "view-in-github",
        "colab_type": "text"
      },
      "source": [
        "<a href=\"https://colab.research.google.com/github/Eval-code/Latihan_machine_learning/blob/main/tugas_machine_learning.ipynb\" target=\"_parent\"><img src=\"https://colab.research.google.com/assets/colab-badge.svg\" alt=\"Open In Colab\"/></a>"
      ]
    },
    {
      "cell_type": "markdown",
      "source": [
        "**PENJELASAN TENTANG PUSTAKA PYTHON**\n",
        "\n",
        "\n",
        "---\n",
        "\n",
        "\n",
        "1. NUMPY\n",
        "2. PANDAS\n",
        "3. SCIPY\n",
        "4. SCIKIT-LEARN\n",
        "5. MATPLOTLIB\n",
        "\n",
        "---\n",
        "# 1. NUMPY <br>\n",
        "  NumPy adalah pustaka fondasi untuk komputasi numerik, menyediakan array multidimensi efisien dan operasi matematika vektorized yang cepat (McKinney, 2022). Ini mendukung array besar tanpa loop manual, ideal untuk simulasi dan analisis data ilmiah.<br>\n",
        "<br>\n",
        "Kegunaan Utama:<br>\n",
        "\n",
        "*   Array dan matriks: Penyimpanan data numerik tetap\n",
        "*   Operasi: Fungsi trigonometri, aljabar linear, dan broadcasting\n",
        "*   Kecepatan: 10-100x lebih cepat daripada list Python standar\n",
        "\n",
        "\n",
        "<br>Contoh Kode Sederhana:"
      ],
      "metadata": {
        "id": "W5tGg2iZoBUV"
      }
    },
    {
      "cell_type": "code",
      "source": [
        "import numpy as np\n",
        "# Create a feature matrix (X) and target vector (y)\n",
        "X = np.array([[1, 2], [3, 4], [5, 6]])\n",
        "y = np.array([1, 2, 3])\n",
        "\n",
        "# Calculate the mean of each feature\n",
        "mean = np.mean(X, axis=0)\n",
        "print(\"Rata-rata fitur:\", mean)"
      ],
      "metadata": {
        "colab": {
          "base_uri": "https://localhost:8080/"
        },
        "id": "ITkgIHK0r3xt",
        "outputId": "8c4331bb-0729-4850-8e50-b7a73baa90b3"
      },
      "execution_count": null,
      "outputs": [
        {
          "output_type": "stream",
          "name": "stdout",
          "text": [
            "Rata-rata fitur: [3. 4.]\n"
          ]
        }
      ]
    },
    {
      "cell_type": "markdown",
      "source": [
        "**Sumber** : *McKinney, W. (2022). Python for Data Analysis (3rd ed.). O'Reilly Media. (Bab 4: NumPy Basics).*"
      ],
      "metadata": {
        "id": "2Pr6m16vtLNN"
      }
    },
    {
      "cell_type": "markdown",
      "source": [
        "# 2. PANDAS<br>\n",
        "Pandas dibangun di atas NumPy untuk manipulasi data struktural, menggunakan DataFrame seperti tabel Excel untuk cleaning dan analisis (McKinney, 2022). Ini memudahkan EDA (Exploratory Data Analysis) pada data tabular atau time series.<br>\n",
        "<br>\n",
        "Kegunaan Utama:<br>\n",
        "\n",
        "*   DataFrame/Series: Baca CSV/Excel, groupby, merge.\n",
        "*   Missing data: Handle NaN dengan fillna atau dropna.\n",
        "*   Integrasi: Kompatibel dengan SQL dan JSON.\n",
        "\n",
        "<br> Contoh Kode Sederhana :"
      ],
      "metadata": {
        "id": "3VuaBcv6sVYD"
      }
    },
    {
      "cell_type": "code",
      "source": [
        "  import pandas as pd\n",
        "\n",
        "  data = {'Nama': ['Alice', 'Bob'], 'Umur': [25, 30]}\n",
        "  df = pd.DataFrame(data)\n",
        "  print(df[df['Umur'] > 25])\n"
      ],
      "metadata": {
        "colab": {
          "base_uri": "https://localhost:8080/"
        },
        "id": "L4ZcxHEZujBX",
        "outputId": "e47fa9eb-358c-40a4-9a0b-45f16bf810f9"
      },
      "execution_count": null,
      "outputs": [
        {
          "output_type": "stream",
          "name": "stdout",
          "text": [
            "  Nama  Umur\n",
            "1  Bob    30\n"
          ]
        }
      ]
    },
    {
      "cell_type": "markdown",
      "source": [
        "**Sumber** : *McKinney, W. (2022). Python for Data Analysis (3rd ed.). O'Reilly Media. (Bab 5-8: Pandas).*"
      ],
      "metadata": {
        "id": "zgg8a-K3uyQN"
      }
    },
    {
      "cell_type": "markdown",
      "source": [
        "# 3. SCIPY (Scientific Python)<br>\n",
        "SciPy memperluas NumPy dengan modul ilmiah untuk optimasi dan statistik, seperti integrasi numerik atau pemrosesan sinyal (Virtanen et al., 2020). Cocok untuk aplikasi teknik dan riset.<br>\n",
        "<br>\n",
        "\n",
        "Kegunaan Utama:\n",
        "*   Optimasi: scipy.optimize untuk minimum fungsi.\n",
        "*   Statistik: scipy.stats untuk distribusi probabilitas.\n",
        "*   Ilmiah: Integrasi, interpolasi, dan eigenvalue.\n",
        "<br>\n",
        "\n",
        "Contoh Kode Sederhana :\n"
      ],
      "metadata": {
        "id": "jHfnAra3MA-E"
      }
    },
    {
      "cell_type": "code",
      "source": [
        "  from scipy import integrate\n",
        "  import numpy as np\n",
        "\n",
        "  def f(x): return x**2\n",
        "  result, _ = integrate.quad(f, 0, 1)\n",
        "  print(result)  # 0.333..."
      ],
      "metadata": {
        "colab": {
          "base_uri": "https://localhost:8080/"
        },
        "id": "-pz6VOC5NGrf",
        "outputId": "90fa307e-2af3-4aa0-91ff-eefdf74d54c1"
      },
      "execution_count": null,
      "outputs": [
        {
          "output_type": "stream",
          "name": "stdout",
          "text": [
            "0.33333333333333337\n"
          ]
        }
      ]
    },
    {
      "cell_type": "markdown",
      "source": [
        "**Sumber** : *Virtanen, P., et al. (2020). SciPy 1.0: Fundamental Algorithms for Scientific Computing in Python. Nature Methods, 17(3), 261-272.*"
      ],
      "metadata": {
        "id": "XCh-wx5NNvc7"
      }
    },
    {
      "cell_type": "markdown",
      "source": [
        "# 4. SCIKYT-LEARN<br>\n",
        "Scikit-learn menyediakan alat ML sederhana untuk klasifikasi, regresi, dan clustering, dengan API konsisten (Pedregosa et al., 2011). Ini bagus untuk prototipe tanpa deep learning.<br>\n",
        "<br>\n",
        "\n",
        "Kegunaan Utama:\n",
        "*   Supervised: Regresi linear, SVM, decision trees.\n",
        "*   Unsupervised: K-means, PCA\n",
        "*   Pipeline: Preprocessing dan evaluasi model.\n",
        "<br>\n",
        "\n",
        "Contoh Kode Sederhana :"
      ],
      "metadata": {
        "id": "FeYDUPOwN4h8"
      }
    },
    {
      "cell_type": "code",
      "source": [
        "  from sklearn.linear_model import LinearRegression\n",
        "  from sklearn.model_selection import train_test_split\n",
        "  import numpy as np\n",
        "\n",
        "  X = np.array([[1], [2], [3], [4]])\n",
        "  y = np.array([2, 4, 6, 8])\n",
        "  X_train, _, y_train, _ = train_test_split(X, y, test_size=0.25)\n",
        "  model = LinearRegression().fit(X_train, y_train)\n",
        "  print(model.predict([[5]]))\n"
      ],
      "metadata": {
        "id": "2aQ7HCYsOpdl",
        "outputId": "adb5b145-a746-4195-882a-66ab605283ac",
        "colab": {
          "base_uri": "https://localhost:8080/"
        }
      },
      "execution_count": null,
      "outputs": [
        {
          "output_type": "stream",
          "name": "stdout",
          "text": [
            "[10.]\n"
          ]
        }
      ]
    },
    {
      "cell_type": "markdown",
      "source": [
        "**Sumber** : *Pedregosa, F., et al. (2011). Scikit-learn: Machine Learning in Python. Journal of Machine Learning Research, 12, 2825-2830.*"
      ],
      "metadata": {
        "id": "ZBoj9JV2Ov8E"
      }
    },
    {
      "cell_type": "markdown",
      "source": [
        "# 5. MATPLOTLIB <br>\n",
        "Matplotlib adalah pustaka plotting komprehensif untuk visualisasi statis atau interaktif, mendukung berbagai jenis grafik (Hunter, 2007). Sering dipakai untuk publikasi dan eksplorasi data.<br>\n",
        "<br>\n",
        "\n",
        "Kegunaan Utama:\n",
        "*   Plot: Line, scatter, histogram, 3D.\n",
        "*   Kustomisasi: Axis, legend, subplots.\n",
        "*   Ekspor: Ke PNG, PDF, atau animasi.\n",
        "<br>\n",
        "\n",
        "Contoh Kode Sederhana :\n"
      ],
      "metadata": {
        "id": "-ISYo2BBO7HT"
      }
    },
    {
      "cell_type": "code",
      "source": [
        "  import matplotlib.pyplot as plt\n",
        "  import numpy as np\n",
        "\n",
        "  x = np.linspace(0, 10, 100)\n",
        "  y = np.sin(x)\n",
        "  plt.plot(x, y)\n",
        "  plt.title('Grafik Sinus')\n",
        "  plt.show()\n"
      ],
      "metadata": {
        "id": "stL7-KFAP6MW",
        "outputId": "0063c8e7-1c1b-4395-fe40-b5781861efab",
        "colab": {
          "base_uri": "https://localhost:8080/",
          "height": 452
        }
      },
      "execution_count": null,
      "outputs": [
        {
          "output_type": "display_data",
          "data": {
            "text/plain": [
              "<Figure size 640x480 with 1 Axes>"
            ],
            "image/png": "[encoded data removed]"
          },
          "metadata": {}
        }
      ]
    },
    {
      "cell_type": "markdown",
      "source": [
        "**Sumber** : *Hunter, J. D. (2007). Matplotlib: A 2D Graphics Environment. Computing in Science & Engineering, 9(3), 90-95.*"
      ],
      "metadata": {
        "id": "y1jiyadBQKjF"
      }
    }
  ]
}